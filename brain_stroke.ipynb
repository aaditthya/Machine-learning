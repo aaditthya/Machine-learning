{
  "nbformat": 4,
  "nbformat_minor": 0,
  "metadata": {
    "colab": {
      "name": "brain_stroke.ipynb",
      "provenance": [],
      "collapsed_sections": [],
      "authorship_tag": "ABX9TyNK98FW7opjj7hKzyxJa4cp",
      "include_colab_link": true
    },
    "kernelspec": {
      "name": "python3",
      "display_name": "Python 3"
    },
    "language_info": {
      "name": "python"
    }
  },
  "cells": [
    {
      "cell_type": "markdown",
      "metadata": {
        "id": "view-in-github",
        "colab_type": "text"
      },
      "source": [
        "<a href=\"https://colab.research.google.com/github/aaditthya/Machine-learning/blob/main/brain_stroke.ipynb\" target=\"_parent\"><img src=\"https://colab.research.google.com/assets/colab-badge.svg\" alt=\"Open In Colab\"/></a>"
      ]
    },
    {
      "cell_type": "code",
      "execution_count": 16,
      "metadata": {
        "colab": {
          "base_uri": "https://localhost:8080/"
        },
        "id": "_R64TdeiMp1y",
        "outputId": "2f74a9ad-30b6-4059-b81e-0dabe63935c2"
      },
      "outputs": [
        {
          "output_type": "stream",
          "name": "stdout",
          "text": [
            "      gender   age  hypertension  heart_disease ever_married      work_type  \\\n",
            "0       Male  67.0             0              1          Yes        Private   \n",
            "1       Male  80.0             0              1          Yes        Private   \n",
            "2     Female  49.0             0              0          Yes        Private   \n",
            "3     Female  79.0             1              0          Yes  Self-employed   \n",
            "4       Male  81.0             0              0          Yes        Private   \n",
            "...      ...   ...           ...            ...          ...            ...   \n",
            "4976    Male  41.0             0              0           No        Private   \n",
            "4977    Male  40.0             0              0          Yes        Private   \n",
            "4978  Female  45.0             1              0          Yes       Govt_job   \n",
            "4979    Male  40.0             0              0          Yes        Private   \n",
            "4980  Female  80.0             1              0          Yes        Private   \n",
            "\n",
            "     Residence_type  avg_glucose_level   bmi   smoking_status  stroke  \n",
            "0             Urban             228.69  36.6  formerly smoked       1  \n",
            "1             Rural             105.92  32.5     never smoked       1  \n",
            "2             Urban             171.23  34.4           smokes       1  \n",
            "3             Rural             174.12  24.0     never smoked       1  \n",
            "4             Urban             186.21  29.0  formerly smoked       1  \n",
            "...             ...                ...   ...              ...     ...  \n",
            "4976          Rural              70.15  29.8  formerly smoked       0  \n",
            "4977          Urban             191.15  31.1           smokes       0  \n",
            "4978          Rural              95.02  31.8           smokes       0  \n",
            "4979          Rural              83.94  30.0           smokes       0  \n",
            "4980          Urban              83.75  29.1     never smoked       0  \n",
            "\n",
            "[4981 rows x 11 columns]\n"
          ]
        }
      ],
      "source": [
        "import pandas as pd\n",
        "import numpy as np\n",
        "BrainStroke=pd.read_csv(\"/content/brain_stroke.csv\")\n",
        "print(BrainStroke)"
      ]
    },
    {
      "cell_type": "code",
      "source": [
        "x=BrainStroke.iloc[:,[1,3]].values\n",
        "print(x)\n",
        "y=BrainStroke.iloc[:,5].values\n",
        "print(y)"
      ],
      "metadata": {
        "colab": {
          "base_uri": "https://localhost:8080/"
        },
        "id": "gy7moYicm8HH",
        "outputId": "9c79970d-997e-47dc-a42a-7ddc90e58b14"
      },
      "execution_count": 5,
      "outputs": [
        {
          "output_type": "stream",
          "name": "stdout",
          "text": [
            "[[67.  1.]\n",
            " [80.  1.]\n",
            " [49.  0.]\n",
            " ...\n",
            " [45.  0.]\n",
            " [40.  0.]\n",
            " [80.  0.]]\n",
            "['Private' 'Private' 'Private' ... 'Govt_job' 'Private' 'Private']\n"
          ]
        }
      ]
    },
    {
      "cell_type": "code",
      "source": [
        "from sklearn.model_selection import train_test_split\n",
        "x_train,x_test,y_train,y_test=train_test_split(x,y,test_size=0.25,random_state=0)\n",
        "print(x_train)\n"
      ],
      "metadata": {
        "id": "CEWcIUKyng74",
        "colab": {
          "base_uri": "https://localhost:8080/"
        },
        "outputId": "af88ed61-5640-4448-f10b-3a2563943fd7"
      },
      "execution_count": 24,
      "outputs": [
        {
          "output_type": "stream",
          "name": "stdout",
          "text": [
            "[[26.  0.]\n",
            " [10.  0.]\n",
            " [10.  0.]\n",
            " ...\n",
            " [56.  0.]\n",
            " [57.  0.]\n",
            " [ 9.  0.]]\n"
          ]
        }
      ]
    },
    {
      "cell_type": "code",
      "source": [
        "from sklearn.preprocessing import StandardScaler\n",
        "st_x=StandardScaler()\n",
        "x_train=st_x.fit_transform(x_train)\n",
        "x_test=st_x.transform(x_test)"
      ],
      "metadata": {
        "id": "xumOXbFiqps5"
      },
      "execution_count": 7,
      "outputs": []
    },
    {
      "cell_type": "code",
      "source": [
        "from sklearn.tree import DecisionTreeClassifier\n",
        "classifier=DecisionTreeClassifier(criterion='entropy',random_state=0)\n",
        "classifier.fit(x_train,y_train)"
      ],
      "metadata": {
        "id": "WSMetWLGsSBC",
        "colab": {
          "base_uri": "https://localhost:8080/"
        },
        "outputId": "2b59a61f-c2b2-4b24-d9fc-94f9b31ae25d"
      },
      "execution_count": 34,
      "outputs": [
        {
          "output_type": "execute_result",
          "data": {
            "text/plain": [
              "DecisionTreeClassifier(criterion='entropy', random_state=0)"
            ]
          },
          "metadata": {},
          "execution_count": 34
        }
      ]
    },
    {
      "cell_type": "code",
      "source": [
        "from sklearn.datasets import load_iris\n",
        "from sklearn import tree\n",
        "clf = tree.DecisionTreeClassifier(random_state=0)\n",
        "iris = load_iris()\n",
        "clf = clf.fit(iris.data, iris.target)\n",
        "tree.plot_tree(clf)"
      ],
      "metadata": {
        "colab": {
          "base_uri": "https://localhost:8080/",
          "height": 559
        },
        "id": "RR8Je2m0FYtg",
        "outputId": "46d34b96-8797-4b31-d749-b06d4bde7882"
      },
      "execution_count": 39,
      "outputs": [
        {
          "output_type": "execute_result",
          "data": {
            "text/plain": [
              "[Text(0.5, 0.9166666666666666, 'X[3] <= 0.8\\ngini = 0.667\\nsamples = 150\\nvalue = [50, 50, 50]'),\n",
              " Text(0.4230769230769231, 0.75, 'gini = 0.0\\nsamples = 50\\nvalue = [50, 0, 0]'),\n",
              " Text(0.5769230769230769, 0.75, 'X[3] <= 1.75\\ngini = 0.5\\nsamples = 100\\nvalue = [0, 50, 50]'),\n",
              " Text(0.3076923076923077, 0.5833333333333334, 'X[2] <= 4.95\\ngini = 0.168\\nsamples = 54\\nvalue = [0, 49, 5]'),\n",
              " Text(0.15384615384615385, 0.4166666666666667, 'X[3] <= 1.65\\ngini = 0.041\\nsamples = 48\\nvalue = [0, 47, 1]'),\n",
              " Text(0.07692307692307693, 0.25, 'gini = 0.0\\nsamples = 47\\nvalue = [0, 47, 0]'),\n",
              " Text(0.23076923076923078, 0.25, 'gini = 0.0\\nsamples = 1\\nvalue = [0, 0, 1]'),\n",
              " Text(0.46153846153846156, 0.4166666666666667, 'X[3] <= 1.55\\ngini = 0.444\\nsamples = 6\\nvalue = [0, 2, 4]'),\n",
              " Text(0.38461538461538464, 0.25, 'gini = 0.0\\nsamples = 3\\nvalue = [0, 0, 3]'),\n",
              " Text(0.5384615384615384, 0.25, 'X[2] <= 5.45\\ngini = 0.444\\nsamples = 3\\nvalue = [0, 2, 1]'),\n",
              " Text(0.46153846153846156, 0.08333333333333333, 'gini = 0.0\\nsamples = 2\\nvalue = [0, 2, 0]'),\n",
              " Text(0.6153846153846154, 0.08333333333333333, 'gini = 0.0\\nsamples = 1\\nvalue = [0, 0, 1]'),\n",
              " Text(0.8461538461538461, 0.5833333333333334, 'X[2] <= 4.85\\ngini = 0.043\\nsamples = 46\\nvalue = [0, 1, 45]'),\n",
              " Text(0.7692307692307693, 0.4166666666666667, 'X[1] <= 3.1\\ngini = 0.444\\nsamples = 3\\nvalue = [0, 1, 2]'),\n",
              " Text(0.6923076923076923, 0.25, 'gini = 0.0\\nsamples = 2\\nvalue = [0, 0, 2]'),\n",
              " Text(0.8461538461538461, 0.25, 'gini = 0.0\\nsamples = 1\\nvalue = [0, 1, 0]'),\n",
              " Text(0.9230769230769231, 0.4166666666666667, 'gini = 0.0\\nsamples = 43\\nvalue = [0, 0, 43]')]"
            ]
          },
          "metadata": {},
          "execution_count": 39
        },
        {
          "output_type": "display_data",
          "data": {
            "text/plain": [
              "<Figure size 432x288 with 1 Axes>"
            ],
            "image/png": "[encoded data removed]"
          },
          "metadata": {
            "needs_background": "light"
          }
        }
      ]
    }
  ]
}